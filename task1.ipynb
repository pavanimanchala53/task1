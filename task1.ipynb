{
 "cells": [
  {
   "cell_type": "markdown",
   "id": "9847f6d9",
   "metadata": {},
   "source": [
    "# Iteration:\n",
    "## Iteration is a programming concept that involves repeating a set of instructions or actions multiple times until a certain condition is met. It is like a loop where the instructions are executed repeatedly until a specific condition becomes false or until a certain number of iterations are completed.\n"
   ]
  },
  {
   "cell_type": "markdown",
   "id": "9bbada28",
   "metadata": {},
   "source": [
    "# Recursion:\n",
    "## Recursion is programming concept that involves a function calling itself, either directly or indirectly. In simpler terms, it's like a function solving a smaller version of the same problem within itself."
   ]
  },
  {
   "cell_type": "markdown",
   "id": "3bcd9c44",
   "metadata": {},
   "source": [
    "# Memoization\n",
    "## it is a technique that helps optimize repetitive tasks.\n",
    "## It involves caching or storing the results of expensive function calls in memory so that you can reuse them later when needed."
   ]
  },
  {
   "cell_type": "code",
   "execution_count": null,
   "id": "fdb8b92a",
   "metadata": {},
   "outputs": [],
   "source": []
  },
  {
   "cell_type": "markdown",
   "id": "7be7391a",
   "metadata": {},
   "source": [
    "# pascals triangle  \n",
    "\n",
    "###    if the column number is 0 or if the column number is same as row number then the value is 1 else the value is sum of previous row's column-1 value and previous reow's column value"
   ]
  },
  {
   "cell_type": "raw",
   "id": "203d00cf",
   "metadata": {},
   "source": [
    "\n",
    "0th row           1\n",
    "1st row         1   1\n",
    "2nd row       1   2   1\n",
    "3rd row     1   3   3   1\n",
    "4th row   1   4   6   4   1"
   ]
  },
  {
   "cell_type": "markdown",
   "id": "8260be8e",
   "metadata": {},
   "source": [
    "# pascals triangle using iteration"
   ]
  },
  {
   "cell_type": "code",
   "execution_count": 1,
   "id": "47ab2e6f",
   "metadata": {},
   "outputs": [],
   "source": [
    "def generate_pascal_triangle(n):\n",
    "    triangle = []\n",
    "    for i in range(n):\n",
    "        row = []\n",
    "        for j in range(i + 1):\n",
    "            if j == 0 or j == i:\n",
    "                row.append(1)\n",
    "            else:\n",
    "                value = triangle[i - 1][j - 1] + triangle[i - 1][j]\n",
    "                row.append(value)\n",
    "        triangle.append(row)\n",
    "    return triangle\n",
    "\n"
   ]
  },
  {
   "cell_type": "code",
   "execution_count": 2,
   "id": "1d1cc974",
   "metadata": {},
   "outputs": [
    {
     "data": {
      "text/plain": [
       "[[1], [1, 1], [1, 2, 1], [1, 3, 3, 1], [1, 4, 6, 4, 1]]"
      ]
     },
     "execution_count": 2,
     "metadata": {},
     "output_type": "execute_result"
    }
   ],
   "source": [
    "generate_pascal_triangle(5)"
   ]
  },
  {
   "cell_type": "markdown",
   "id": "fb96bcb0",
   "metadata": {},
   "source": [
    "# pascals triangle using recursion"
   ]
  },
  {
   "cell_type": "code",
   "execution_count": 7,
   "id": "32e3f6ad",
   "metadata": {},
   "outputs": [],
   "source": [
    "def pascal_recursive(row, col):\n",
    "    if col == 0 or col == row:\n",
    "        return 1\n",
    "    else:\n",
    "        return pascal_recursive(row - 1, col - 1) + pascal_recursive(row - 1, col)\n",
    "\n",
    "def generating_pascals_triangle(n):\n",
    "    triangle = []\n",
    "    for i in range(n):\n",
    "        row = []\n",
    "        for j in range(i + 1):\n",
    "            row.append(pascal_recursive(i, j))\n",
    "        triangle.append(row)\n",
    "    return triangle"
   ]
  },
  {
   "cell_type": "code",
   "execution_count": 8,
   "id": "451ca6a0",
   "metadata": {},
   "outputs": [
    {
     "data": {
      "text/plain": [
       "[[1], [1, 1], [1, 2, 1]]"
      ]
     },
     "execution_count": 8,
     "metadata": {},
     "output_type": "execute_result"
    }
   ],
   "source": [
    "generating_pascals_triangle(3)"
   ]
  },
  {
   "cell_type": "code",
   "execution_count": null,
   "id": "8d4b1641",
   "metadata": {},
   "outputs": [],
   "source": []
  },
  {
   "cell_type": "markdown",
   "id": "0934ec46",
   "metadata": {},
   "source": [
    "# pascals triangle using memoization"
   ]
  },
  {
   "cell_type": "code",
   "execution_count": 9,
   "id": "60dc40d4",
   "metadata": {},
   "outputs": [],
   "source": [
    "memo = {}\n",
    "\n",
    "def generate_pascals_triangle(n):\n",
    "    triangle = []\n",
    "    for i in range(n):\n",
    "        row = []\n",
    "        for j in range(i + 1):\n",
    "            coef = memory(i, j)\n",
    "            row.append(coef)\n",
    "        triangle.append(row)\n",
    "    return triangle\n",
    "\n",
    "def memory(row, col):\n",
    "    if col == 0 or col == row:\n",
    "        return 1\n",
    "    elif (row, col) in memo:\n",
    "        return memo[(row, col)]\n",
    "    else:\n",
    "        coef = memory(row - 1, col - 1) + memory(row - 1, col)\n",
    "        memo[(row, col)] = coef\n",
    "        return coef"
   ]
  },
  {
   "cell_type": "code",
   "execution_count": 10,
   "id": "9e54fd91",
   "metadata": {},
   "outputs": [
    {
     "data": {
      "text/plain": [
       "[[1], [1, 1], [1, 2, 1], [1, 3, 3, 1], [1, 4, 6, 4, 1]]"
      ]
     },
     "execution_count": 10,
     "metadata": {},
     "output_type": "execute_result"
    }
   ],
   "source": [
    "generate_pascals_triangle(5)\n"
   ]
  },
  {
   "cell_type": "code",
   "execution_count": null,
   "id": "7543b322",
   "metadata": {},
   "outputs": [],
   "source": []
  },
  {
   "cell_type": "code",
   "execution_count": null,
   "id": "8a52a9dd",
   "metadata": {},
   "outputs": [],
   "source": []
  }
 ],
 "metadata": {
  "kernelspec": {
   "display_name": "Python 3 (ipykernel)",
   "language": "python",
   "name": "python3"
  },
  "language_info": {
   "codemirror_mode": {
    "name": "ipython",
    "version": 3
   },
   "file_extension": ".py",
   "mimetype": "text/x-python",
   "name": "python",
   "nbconvert_exporter": "python",
   "pygments_lexer": "ipython3",
   "version": "3.9.7"
  }
 },
 "nbformat": 4,
 "nbformat_minor": 5
}
